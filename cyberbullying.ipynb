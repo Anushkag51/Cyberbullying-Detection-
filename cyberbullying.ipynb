{
 "cells": [
  {
   "cell_type": "markdown",
   "id": "0e0fa1ec",
   "metadata": {},
   "source": [
    "## Importing necessary libraries and dataset"
   ]
  },
  {
   "cell_type": "code",
   "execution_count": 3,
   "id": "6082ac95",
   "metadata": {},
   "outputs": [
    {
     "name": "stdout",
     "output_type": "stream",
     "text": [
      "Collecting contractions\n",
      "  Using cached contractions-0.1.73-py2.py3-none-any.whl (8.7 kB)\n",
      "Requirement already satisfied: textsearch>=0.0.21 in c:\\users\\dell\\anaconda\\lib\\site-packages (from contractions) (0.0.24)\n",
      "Requirement already satisfied: pyahocorasick in c:\\users\\dell\\anaconda\\lib\\site-packages (from textsearch>=0.0.21->contractions) (2.0.0)\n",
      "Requirement already satisfied: anyascii in c:\\users\\dell\\anaconda\\lib\\site-packages (from textsearch>=0.0.21->contractions) (0.3.2)\n",
      "Installing collected packages: contractions\n",
      "Successfully installed contractions-0.1.73\n",
      "Collecting nltk\n",
      "  Downloading nltk-3.8.1-py3-none-any.whl (1.5 MB)\n",
      "Requirement already satisfied: joblib in c:\\users\\dell\\anaconda\\lib\\site-packages (from nltk) (1.3.2)\n",
      "Requirement already satisfied: tqdm in c:\\users\\dell\\anaconda\\lib\\site-packages (from nltk) (4.62.3)\n",
      "Requirement already satisfied: regex>=2021.8.3 in c:\\users\\dell\\anaconda\\lib\\site-packages (from nltk) (2021.8.3)\n",
      "Requirement already satisfied: click in c:\\users\\dell\\anaconda\\lib\\site-packages (from nltk) (8.0.3)\n",
      "Requirement already satisfied: colorama in c:\\users\\dell\\anaconda\\lib\\site-packages (from click->nltk) (0.4.4)\n",
      "Installing collected packages: nltk\n",
      "Successfully installed nltk-3.8.1\n",
      "Collecting autocorrect\n",
      "  Using cached autocorrect-2.6.1-py3-none-any.whl\n",
      "Installing collected packages: autocorrect\n",
      "Successfully installed autocorrect-2.6.1\n",
      "Requirement already satisfied: matplotlib in c:\\users\\dell\\anaconda\\lib\\site-packages (3.8.2)\n",
      "Requirement already satisfied: kiwisolver>=1.3.1 in c:\\users\\dell\\anaconda\\lib\\site-packages (from matplotlib) (1.3.1)\n",
      "Requirement already satisfied: pyparsing>=2.3.1 in c:\\users\\dell\\anaconda\\lib\\site-packages (from matplotlib) (3.0.4)\n",
      "Requirement already satisfied: importlib-resources>=3.2.0 in c:\\users\\dell\\anaconda\\lib\\site-packages (from matplotlib) (6.1.1)\n",
      "Requirement already satisfied: fonttools>=4.22.0 in c:\\users\\dell\\anaconda\\lib\\site-packages (from matplotlib) (4.25.0)\n",
      "Requirement already satisfied: cycler>=0.10 in c:\\users\\dell\\anaconda\\lib\\site-packages (from matplotlib) (0.10.0)\n",
      "Requirement already satisfied: pillow>=8 in c:\\users\\dell\\anaconda\\lib\\site-packages (from matplotlib) (8.4.0)\n",
      "Requirement already satisfied: numpy<2,>=1.21 in c:\\users\\dell\\anaconda\\lib\\site-packages (from matplotlib) (1.24.3)\n",
      "Requirement already satisfied: python-dateutil>=2.7 in c:\\users\\dell\\anaconda\\lib\\site-packages (from matplotlib) (2.8.2)\n",
      "Requirement already satisfied: packaging>=20.0 in c:\\users\\dell\\anaconda\\lib\\site-packages (from matplotlib) (21.0)\n",
      "Requirement already satisfied: contourpy>=1.0.1 in c:\\users\\dell\\anaconda\\lib\\site-packages (from matplotlib) (1.2.0)\n",
      "Requirement already satisfied: six in c:\\users\\dell\\anaconda\\lib\\site-packages (from cycler>=0.10->matplotlib) (1.16.0)\n",
      "Requirement already satisfied: zipp>=3.1.0 in c:\\users\\dell\\anaconda\\lib\\site-packages (from importlib-resources>=3.2.0->matplotlib) (3.6.0)\n"
     ]
    }
   ],
   "source": [
    "!pip install contractions\n",
    "!pip install nltk\n",
    "!pip install autocorrect \n",
    "!pip install --upgrade matplotlib"
   ]
  },
  {
   "cell_type": "code",
   "execution_count": 10,
   "id": "c029c475",
   "metadata": {},
   "outputs": [
    {
     "name": "stderr",
     "output_type": "stream",
     "text": [
      "[nltk_data] Downloading package wordnet to\n",
      "[nltk_data]     C:\\Users\\dell\\AppData\\Roaming\\nltk_data...\n",
      "[nltk_data]   Package wordnet is already up-to-date!\n",
      "[nltk_data] Downloading package punkt to\n",
      "[nltk_data]     C:\\Users\\dell\\AppData\\Roaming\\nltk_data...\n",
      "[nltk_data]   Package punkt is already up-to-date!\n",
      "[nltk_data] Downloading package stopwords to\n",
      "[nltk_data]     C:\\Users\\dell\\AppData\\Roaming\\nltk_data...\n",
      "[nltk_data]   Package stopwords is already up-to-date!\n"
     ]
    }
   ],
   "source": [
    "import string # from some string manipulation tasks\n",
    "import nltk # natural language toolkit\n",
    "import re # regex\n",
    "from string import punctuation # solving punctuation problems\n",
    "from nltk.corpus import stopwords # stop words in sentences\n",
    "from nltk.stem import WordNetLemmatizer # For stemming the sentence\n",
    "from nltk.stem import SnowballStemmer # For stemming the sentence\n",
    "from contractions import contractions_dict # to solve contractions\n",
    "from autocorrect import Speller #correcting the spellings\n",
    "nltk.download('wordnet')\n",
    "nltk.download('punkt')\n",
    "nltk.download('stopwords')\n",
    "\n",
    "#Libraries for general purpose\n",
    "import matplotlib.pyplot as plt\n",
    "import seaborn as sns\n"
   ]
  },
  {
   "cell_type": "code",
   "execution_count": 11,
   "id": "b904f134",
   "metadata": {},
   "outputs": [],
   "source": [
    "#Data preprocessing\n",
    "from sklearn import preprocessing\n",
    "from sklearn.model_selection import train_test_split\n",
    "from imblearn.over_sampling import RandomOverSampler\n",
    "\n",
    "#Naive Bayes\n",
    "from sklearn.feature_extraction.text import CountVectorizer\n",
    "from sklearn.feature_extraction.text import TfidfTransformer\n",
    "from sklearn.naive_bayes import MultinomialNB"
   ]
  },
  {
   "cell_type": "code",
   "execution_count": 12,
   "id": "995d409e",
   "metadata": {},
   "outputs": [
    {
     "data": {
      "text/plain": [
       "religion               7998\n",
       "age                    7992\n",
       "gender                 7973\n",
       "ethnicity              7961\n",
       "not_cyberbullying      7945\n",
       "other_cyberbullying    7823\n",
       "Name: cyberbullying_type, dtype: int64"
      ]
     },
     "execution_count": 12,
     "metadata": {},
     "output_type": "execute_result"
    }
   ],
   "source": [
    "import numpy as np\n",
    "import pandas as pd\n",
    "\n",
    "df = pd.read_csv(\"C:\\\\Users\\\\dell\\\\Downloads\\\\datasets\\\\cyberbullying_tweets.csv\")\n",
    "df['cyberbullying_type'].value_counts()"
   ]
  },
  {
   "cell_type": "code",
   "execution_count": 13,
   "id": "c9dcf327",
   "metadata": {},
   "outputs": [
    {
     "data": {
      "text/plain": [
       "religion             7998\n",
       "age                  7992\n",
       "gender               7973\n",
       "ethnicity            7961\n",
       "not_cyberbullying    7945\n",
       "Name: cyberbullying_type, dtype: int64"
      ]
     },
     "execution_count": 13,
     "metadata": {},
     "output_type": "execute_result"
    }
   ],
   "source": [
    "df.drop(df[df['cyberbullying_type'] == 'other_cyberbullying'].index, inplace = True)\n",
    "df['cyberbullying_type'].value_counts()"
   ]
  },
  {
   "cell_type": "markdown",
   "id": "5bb68fe8",
   "metadata": {},
   "source": [
    "## Dataset Preprocessing"
   ]
  },
  {
   "cell_type": "code",
   "execution_count": 14,
   "id": "d9694df8",
   "metadata": {},
   "outputs": [],
   "source": [
    "# Renaming Categories\n",
    "df = df.rename(columns={'tweet_text': 'text', 'cyberbullying_type': 'sentiment'})"
   ]
  },
  {
   "cell_type": "code",
   "execution_count": 15,
   "id": "0377ab4f",
   "metadata": {},
   "outputs": [
    {
     "data": {
      "text/html": [
       "<div>\n",
       "<style scoped>\n",
       "    .dataframe tbody tr th:only-of-type {\n",
       "        vertical-align: middle;\n",
       "    }\n",
       "\n",
       "    .dataframe tbody tr th {\n",
       "        vertical-align: top;\n",
       "    }\n",
       "\n",
       "    .dataframe thead th {\n",
       "        text-align: right;\n",
       "    }\n",
       "</style>\n",
       "<table border=\"1\" class=\"dataframe\">\n",
       "  <thead>\n",
       "    <tr style=\"text-align: right;\">\n",
       "      <th></th>\n",
       "      <th>text</th>\n",
       "      <th>sentiment</th>\n",
       "    </tr>\n",
       "  </thead>\n",
       "  <tbody>\n",
       "    <tr>\n",
       "      <th>44842</th>\n",
       "      <td>@AntiDARKSKINNED: Don't start with that I'm br...</td>\n",
       "      <td>ethnicity</td>\n",
       "    </tr>\n",
       "    <tr>\n",
       "      <th>15413</th>\n",
       "      <td>Bitch I’ll do this for iwrestledabearonce Spir...</td>\n",
       "      <td>gender</td>\n",
       "    </tr>\n",
       "    <tr>\n",
       "      <th>41335</th>\n",
       "      <td>RT @realdealsky11: Just cuz my money keep runn...</td>\n",
       "      <td>ethnicity</td>\n",
       "    </tr>\n",
       "    <tr>\n",
       "      <th>17247</th>\n",
       "      <td>Every temple need not be open to every one. Th...</td>\n",
       "      <td>religion</td>\n",
       "    </tr>\n",
       "    <tr>\n",
       "      <th>32674</th>\n",
       "      <td>Im very tired of seeing other lightskin women ...</td>\n",
       "      <td>age</td>\n",
       "    </tr>\n",
       "    <tr>\n",
       "      <th>8742</th>\n",
       "      <td>@BestProAdvice: The facts on tattoos...tattoo ...</td>\n",
       "      <td>gender</td>\n",
       "    </tr>\n",
       "    <tr>\n",
       "      <th>46339</th>\n",
       "      <td>@bnuno125 some dumb asses at club rodeo yelled...</td>\n",
       "      <td>ethnicity</td>\n",
       "    </tr>\n",
       "    <tr>\n",
       "      <th>32097</th>\n",
       "      <td>Morrison really is the school bully.</td>\n",
       "      <td>age</td>\n",
       "    </tr>\n",
       "    <tr>\n",
       "      <th>17866</th>\n",
       "      <td>To all those people who always play victim car...</td>\n",
       "      <td>religion</td>\n",
       "    </tr>\n",
       "    <tr>\n",
       "      <th>40729</th>\n",
       "      <td>Where are u located?? you need your ass beat!!...</td>\n",
       "      <td>ethnicity</td>\n",
       "    </tr>\n",
       "  </tbody>\n",
       "</table>\n",
       "</div>"
      ],
      "text/plain": [
       "                                                    text  sentiment\n",
       "44842  @AntiDARKSKINNED: Don't start with that I'm br...  ethnicity\n",
       "15413  Bitch I’ll do this for iwrestledabearonce Spir...     gender\n",
       "41335  RT @realdealsky11: Just cuz my money keep runn...  ethnicity\n",
       "17247  Every temple need not be open to every one. Th...   religion\n",
       "32674  Im very tired of seeing other lightskin women ...        age\n",
       "8742   @BestProAdvice: The facts on tattoos...tattoo ...     gender\n",
       "46339  @bnuno125 some dumb asses at club rodeo yelled...  ethnicity\n",
       "32097               Morrison really is the school bully.        age\n",
       "17866  To all those people who always play victim car...   religion\n",
       "40729  Where are u located?? you need your ass beat!!...  ethnicity"
      ]
     },
     "execution_count": 15,
     "metadata": {},
     "output_type": "execute_result"
    }
   ],
   "source": [
    "# Checking 10 samples\n",
    "df.sample(10)"
   ]
  },
  {
   "cell_type": "markdown",
   "id": "6c04e744",
   "metadata": {},
   "source": [
    "### Converting categories into numbers"
   ]
  },
  {
   "cell_type": "code",
   "execution_count": 16,
   "id": "87791c50",
   "metadata": {},
   "outputs": [],
   "source": [
    "df[\"sentiment\"].replace({\"religion\": 1, \"age\": 2, \"gender\": 3, \"ethnicity\": 4,\"not_cyberbullying\":5}, inplace=True)"
   ]
  },
  {
   "cell_type": "code",
   "execution_count": 17,
   "id": "ae3ca1d1",
   "metadata": {},
   "outputs": [],
   "source": [
    "sentiments = [\"religion\",\"age\",\"gender\",\"ethnicity\",\"not bullying\"]"
   ]
  },
  {
   "cell_type": "markdown",
   "id": "da917df0",
   "metadata": {},
   "source": [
    "### Preprocessing: Tokenize sentences, Change to lower case, Correct spelling, Remove numbers, Remove punctuation, Remove stopwords"
   ]
  },
  {
   "cell_type": "code",
   "execution_count": 67,
   "id": "d46e6dce",
   "metadata": {},
   "outputs": [],
   "source": [
    "#@title\n",
    "\n",
    "#Text cleaning\n",
    "import re, string\n",
    "import nltk\n",
    "from nltk.stem import WordNetLemmatizer,PorterStemmer\n",
    "from nltk.corpus import stopwords\n",
    "stop_words = set(stopwords.words('english'))\n"
   ]
  },
  {
   "cell_type": "code",
   "execution_count": 11,
   "id": "99c2f46c",
   "metadata": {},
   "outputs": [
    {
     "name": "stdout",
     "output_type": "stream",
     "text": [
      "Requirement already satisfied: demoji in c:\\users\\dell\\anaconda\\lib\\site-packages (1.1.0)\n"
     ]
    }
   ],
   "source": [
    "!pip install demoji"
   ]
  },
  {
   "cell_type": "code",
   "execution_count": 19,
   "id": "defbe005",
   "metadata": {},
   "outputs": [],
   "source": [
    "import demoji"
   ]
  },
  {
   "cell_type": "markdown",
   "id": "cc4cb8bc",
   "metadata": {},
   "source": [
    "### functions for text cleaning"
   ]
  },
  {
   "cell_type": "code",
   "execution_count": 68,
   "id": "afa3b694",
   "metadata": {},
   "outputs": [],
   "source": [
    "#Clean emojis from text\n",
    "def remove_emojis(text):\n",
    "    return demoji.replace(text, '')\n",
    "#Remove punctuations, links, stopwords, mentions and \\r\\n new line characters\n",
    "def strip_all_entities(text): \n",
    "    text = text.replace('\\r', '').replace('\\n', ' ').lower() #remove \\n and \\r and lowercase\n",
    "    text = re.sub(r\"(?:\\@|https?\\://)\\S+\", \"\", text) #remove links and mentions\n",
    "    text = re.sub(r'[^\\x00-\\x7f]',r'', text) #remove non utf8/ascii characters such as '\\x9a\\x91\\x97\\x9a\\x97'\n",
    "    banned_list= string.punctuation\n",
    "    table = str.maketrans('', '', banned_list)\n",
    "    text = text.translate(table)\n",
    "    text = [word for word in text.split() if word not in stop_words]\n",
    "    text = ' '.join(text)\n",
    "    text =' '.join(word for word in text.split() if len(word) < 14) # remove words longer than 14 characters\n",
    "    return text\n"
   ]
  },
  {
   "cell_type": "code",
   "execution_count": 21,
   "id": "51ee443a",
   "metadata": {},
   "outputs": [],
   "source": [
    "#remove contractions\n",
    "def decontract(text):\n",
    "    text = re.sub(r\"can\\'t\", \"can not\", text)\n",
    "    text = re.sub(r\"n\\'t\", \" not\", text)\n",
    "    text = re.sub(r\"\\'re\", \" are\", text)\n",
    "    text = re.sub(r\"\\'s\", \" is\", text)\n",
    "    text = re.sub(r\"\\'d\", \" would\", text)\n",
    "    text = re.sub(r\"\\'ll\", \" will\", text)\n",
    "    text = re.sub(r\"\\'t\", \" not\", text)\n",
    "    text = re.sub(r\"\\'ve\", \" have\", text)\n",
    "    text = re.sub(r\"\\'m\", \" am\", text)\n",
    "    return text\n",
    "\n",
    "#clean hashtags at the end of the sentence, and keep those in the middle of the sentence by removing just the \"#\" symbol\n",
    "def clean_hashtags(tweet):\n",
    "    new_tweet = \" \".join(word.strip() for word in re.split('#(?!(?:hashtag)\\b)[\\w-]+(?=(?:\\s+#[\\w-]+)*\\s*$)', tweet)) #remove last hashtags\n",
    "    new_tweet2 = \" \".join(word.strip() for word in re.split('#|_', new_tweet)) #remove hashtags symbol from words in the middle of the sentence\n",
    "    return new_tweet2\n"
   ]
  },
  {
   "cell_type": "code",
   "execution_count": 22,
   "id": "78e994ba",
   "metadata": {},
   "outputs": [],
   "source": [
    "\n",
    "#Filter special characters such as \"&\" and \"$\" present in some words\n",
    "def filter_chars(a):\n",
    "    sent = []\n",
    "    for word in a.split(' '):\n",
    "        if ('$' in word) | ('&' in word):\n",
    "            sent.append('')\n",
    "        else:\n",
    "            sent.append(word)\n",
    "    return ' '.join(sent)\n",
    "\n",
    "#Remove multiple sequential spaces\n",
    "def remove_mult_spaces(text):\n",
    "    return re.sub(\"\\s\\s+\" , \" \", text)\n",
    "\n",
    "#Stemming\n",
    "def stemmer(text):\n",
    "    tokenized = nltk.word_tokenize(text)\n",
    "    ps = PorterStemmer()\n",
    "    return ' '.join([ps.stem(words) for words in tokenized])"
   ]
  },
  {
   "cell_type": "code",
   "execution_count": 23,
   "id": "14a6a74d",
   "metadata": {},
   "outputs": [],
   "source": [
    "#Lemmatization \n",
    "def lemmatize(text):\n",
    "    tokenized = nltk.word_tokenize(text)\n",
    "    lm = WordNetLemmatizer()\n",
    "    return ' '.join([lm.lemmatize(words) for words in tokenized])\n",
    "\n",
    "#Then we apply all the defined functions in the following order\n",
    "def preprocess(text):\n",
    "    text = remove_emojis(text)\n",
    "    text = decontract(text)\n",
    "    text = strip_all_entities(text)\n",
    "    text = clean_hashtags(text)\n",
    "    text = filter_chars(text)\n",
    "    text = remove_mult_spaces(text)\n",
    "    text = stemmer(text)\n",
    "    return text"
   ]
  },
  {
   "cell_type": "code",
   "execution_count": 24,
   "id": "8fcb7678",
   "metadata": {},
   "outputs": [],
   "source": [
    "texts_cleaned = []\n",
    "for t in df.text:\n",
    "    texts_cleaned.append(preprocess(t))\n"
   ]
  },
  {
   "cell_type": "code",
   "execution_count": 25,
   "id": "25074e29",
   "metadata": {},
   "outputs": [],
   "source": [
    "df['text_clean'] = texts_cleaned"
   ]
  },
  {
   "cell_type": "markdown",
   "id": "cb645c2e",
   "metadata": {},
   "source": [
    "### clean text"
   ]
  },
  {
   "cell_type": "code",
   "execution_count": 26,
   "id": "e3359177",
   "metadata": {},
   "outputs": [
    {
     "data": {
      "text/html": [
       "<div>\n",
       "<style scoped>\n",
       "    .dataframe tbody tr th:only-of-type {\n",
       "        vertical-align: middle;\n",
       "    }\n",
       "\n",
       "    .dataframe tbody tr th {\n",
       "        vertical-align: top;\n",
       "    }\n",
       "\n",
       "    .dataframe thead th {\n",
       "        text-align: right;\n",
       "    }\n",
       "</style>\n",
       "<table border=\"1\" class=\"dataframe\">\n",
       "  <thead>\n",
       "    <tr style=\"text-align: right;\">\n",
       "      <th></th>\n",
       "      <th>text</th>\n",
       "      <th>sentiment</th>\n",
       "      <th>text_clean</th>\n",
       "    </tr>\n",
       "  </thead>\n",
       "  <tbody>\n",
       "    <tr>\n",
       "      <th>0</th>\n",
       "      <td>In other words #katandandre, your food was cra...</td>\n",
       "      <td>5</td>\n",
       "      <td>word katandandr food crapilici mkr</td>\n",
       "    </tr>\n",
       "    <tr>\n",
       "      <th>1</th>\n",
       "      <td>Why is #aussietv so white? #MKR #theblock #ImA...</td>\n",
       "      <td>5</td>\n",
       "      <td>aussietv white mkr theblock today sunris studi...</td>\n",
       "    </tr>\n",
       "    <tr>\n",
       "      <th>2</th>\n",
       "      <td>@XochitlSuckkks a classy whore? Or more red ve...</td>\n",
       "      <td>5</td>\n",
       "      <td>classi whore red velvet cupcak</td>\n",
       "    </tr>\n",
       "    <tr>\n",
       "      <th>3</th>\n",
       "      <td>@Jason_Gio meh. :P  thanks for the heads up, b...</td>\n",
       "      <td>5</td>\n",
       "      <td>meh p thank head concern anoth angri dude twitter</td>\n",
       "    </tr>\n",
       "    <tr>\n",
       "      <th>4</th>\n",
       "      <td>@RudhoeEnglish This is an ISIS account pretend...</td>\n",
       "      <td>5</td>\n",
       "      <td>isi account pretend kurdish account like islam...</td>\n",
       "    </tr>\n",
       "  </tbody>\n",
       "</table>\n",
       "</div>"
      ],
      "text/plain": [
       "                                                text  sentiment  \\\n",
       "0  In other words #katandandre, your food was cra...          5   \n",
       "1  Why is #aussietv so white? #MKR #theblock #ImA...          5   \n",
       "2  @XochitlSuckkks a classy whore? Or more red ve...          5   \n",
       "3  @Jason_Gio meh. :P  thanks for the heads up, b...          5   \n",
       "4  @RudhoeEnglish This is an ISIS account pretend...          5   \n",
       "\n",
       "                                          text_clean  \n",
       "0                 word katandandr food crapilici mkr  \n",
       "1  aussietv white mkr theblock today sunris studi...  \n",
       "2                     classi whore red velvet cupcak  \n",
       "3  meh p thank head concern anoth angri dude twitter  \n",
       "4  isi account pretend kurdish account like islam...  "
      ]
     },
     "execution_count": 26,
     "metadata": {},
     "output_type": "execute_result"
    }
   ],
   "source": [
    "df.head()"
   ]
  },
  {
   "cell_type": "markdown",
   "id": "050188f6",
   "metadata": {},
   "source": [
    "### removing duplicates"
   ]
  },
  {
   "cell_type": "code",
   "execution_count": 27,
   "id": "0177e10e",
   "metadata": {},
   "outputs": [
    {
     "data": {
      "text/plain": [
       "1049"
      ]
     },
     "execution_count": 27,
     "metadata": {},
     "output_type": "execute_result"
    }
   ],
   "source": [
    "df[\"text_clean\"].duplicated().sum()"
   ]
  },
  {
   "cell_type": "code",
   "execution_count": 28,
   "id": "96923469",
   "metadata": {},
   "outputs": [],
   "source": [
    "df.drop_duplicates(\"text_clean\", inplace=True)"
   ]
  },
  {
   "cell_type": "markdown",
   "id": "62a6015b",
   "metadata": {},
   "source": [
    "### value counts per sentiment "
   ]
  },
  {
   "cell_type": "code",
   "execution_count": 29,
   "id": "3badac7b",
   "metadata": {},
   "outputs": [
    {
     "data": {
      "text/plain": [
       "1    7946\n",
       "2    7884\n",
       "4    7746\n",
       "5    7637\n",
       "3    7607\n",
       "Name: sentiment, dtype: int64"
      ]
     },
     "execution_count": 29,
     "metadata": {},
     "output_type": "execute_result"
    }
   ],
   "source": [
    "df.sentiment.value_counts()"
   ]
  },
  {
   "cell_type": "markdown",
   "id": "acb86c58",
   "metadata": {},
   "source": [
    "## Checking tweet length"
   ]
  },
  {
   "cell_type": "code",
   "execution_count": 30,
   "id": "8f479051",
   "metadata": {},
   "outputs": [],
   "source": [
    "text_len = []\n",
    "for text in df.text_clean:\n",
    "    tweet_len = len(text.split())\n",
    "    text_len.append(tweet_len)"
   ]
  },
  {
   "cell_type": "code",
   "execution_count": 31,
   "id": "c0a9c687",
   "metadata": {},
   "outputs": [],
   "source": [
    "df['text_len'] = text_len"
   ]
  },
  {
   "cell_type": "code",
   "execution_count": 32,
   "id": "ad5c8069",
   "metadata": {},
   "outputs": [
    {
     "data": {
      "image/png": "[encoded data removed]",
      "text/plain": [
       "<Figure size 504x360 with 1 Axes>"
      ]
     },
     "metadata": {
      "needs_background": "light"
     },
     "output_type": "display_data"
    }
   ],
   "source": [
    "plt.figure(figsize=(7,5))\n",
    "ax = sns.countplot(x='text_len', data=df[df['text_len']<10], palette='mako')\n",
    "plt.title('Count of tweets with less than 10 words', fontsize=20)\n",
    "plt.yticks([])\n",
    "ax.bar_label(ax.containers[0])\n",
    "plt.ylabel('count')\n",
    "plt.xlabel('')\n",
    "plt.show()"
   ]
  },
  {
   "cell_type": "code",
   "execution_count": 33,
   "id": "9dd8fa57",
   "metadata": {},
   "outputs": [
    {
     "data": {
      "text/html": [
       "<div>\n",
       "<style scoped>\n",
       "    .dataframe tbody tr th:only-of-type {\n",
       "        vertical-align: middle;\n",
       "    }\n",
       "\n",
       "    .dataframe tbody tr th {\n",
       "        vertical-align: top;\n",
       "    }\n",
       "\n",
       "    .dataframe thead th {\n",
       "        text-align: right;\n",
       "    }\n",
       "</style>\n",
       "<table border=\"1\" class=\"dataframe\">\n",
       "  <thead>\n",
       "    <tr style=\"text-align: right;\">\n",
       "      <th></th>\n",
       "      <th>text</th>\n",
       "      <th>sentiment</th>\n",
       "      <th>text_clean</th>\n",
       "      <th>text_len</th>\n",
       "    </tr>\n",
       "  </thead>\n",
       "  <tbody>\n",
       "    <tr>\n",
       "      <th>44035</th>\n",
       "      <td>You so black and white trying to live like a n...</td>\n",
       "      <td>4</td>\n",
       "      <td>black white tri live like nigger pahahahaha co...</td>\n",
       "      <td>187</td>\n",
       "    </tr>\n",
       "    <tr>\n",
       "      <th>45165</th>\n",
       "      <td>@hermdiggz: “@tayyoung_: FUCK OBAMA, dumb ass ...</td>\n",
       "      <td>4</td>\n",
       "      <td>fuck obama dumb ass nigger bitch ltthi whore s...</td>\n",
       "      <td>162</td>\n",
       "    </tr>\n",
       "    <tr>\n",
       "      <th>33724</th>\n",
       "      <td>... I don't feel guilty for killing him, I jus...</td>\n",
       "      <td>2</td>\n",
       "      <td>feel guilti kill feel guilti enjoy torment sin...</td>\n",
       "      <td>137</td>\n",
       "    </tr>\n",
       "    <tr>\n",
       "      <th>1317</th>\n",
       "      <td>@EurekAlertAAAS: Researchers push to import to...</td>\n",
       "      <td>5</td>\n",
       "      <td>research push import top antibulli program us ...</td>\n",
       "      <td>137</td>\n",
       "    </tr>\n",
       "    <tr>\n",
       "      <th>47037</th>\n",
       "      <td>@Purely_Ambition: Sooo mad. RT @TracePeterson ...</td>\n",
       "      <td>4</td>\n",
       "      <td>sooo mad rt fuck obama dumb nigger go switzerl...</td>\n",
       "      <td>125</td>\n",
       "    </tr>\n",
       "    <tr>\n",
       "      <th>...</th>\n",
       "      <td>...</td>\n",
       "      <td>...</td>\n",
       "      <td>...</td>\n",
       "      <td>...</td>\n",
       "    </tr>\n",
       "    <tr>\n",
       "      <th>1607</th>\n",
       "      <td>@harmlesstree2 Here7 https://t.co/xWJzpSodGj</td>\n",
       "      <td>5</td>\n",
       "      <td>here7</td>\n",
       "      <td>1</td>\n",
       "    </tr>\n",
       "    <tr>\n",
       "      <th>6696</th>\n",
       "      <td>@LiamTighe Rebecca who?</td>\n",
       "      <td>5</td>\n",
       "      <td>rebecca</td>\n",
       "      <td>1</td>\n",
       "    </tr>\n",
       "    <tr>\n",
       "      <th>558</th>\n",
       "      <td>@root_tim this is my work :)</td>\n",
       "      <td>5</td>\n",
       "      <td>work</td>\n",
       "      <td>1</td>\n",
       "    </tr>\n",
       "    <tr>\n",
       "      <th>3462</th>\n",
       "      <td>@jaredchase killing you how?</td>\n",
       "      <td>5</td>\n",
       "      <td>kill</td>\n",
       "      <td>1</td>\n",
       "    </tr>\n",
       "    <tr>\n",
       "      <th>10</th>\n",
       "      <td>@Jord_Is_Dead http://t.co/UsQInYW5Gn</td>\n",
       "      <td>5</td>\n",
       "      <td></td>\n",
       "      <td>0</td>\n",
       "    </tr>\n",
       "  </tbody>\n",
       "</table>\n",
       "<p>38820 rows × 4 columns</p>\n",
       "</div>"
      ],
      "text/plain": [
       "                                                    text  sentiment  \\\n",
       "44035  You so black and white trying to live like a n...          4   \n",
       "45165  @hermdiggz: “@tayyoung_: FUCK OBAMA, dumb ass ...          4   \n",
       "33724  ... I don't feel guilty for killing him, I jus...          2   \n",
       "1317   @EurekAlertAAAS: Researchers push to import to...          5   \n",
       "47037  @Purely_Ambition: Sooo mad. RT @TracePeterson ...          4   \n",
       "...                                                  ...        ...   \n",
       "1607        @harmlesstree2 Here7 https://t.co/xWJzpSodGj          5   \n",
       "6696                             @LiamTighe Rebecca who?          5   \n",
       "558                         @root_tim this is my work :)          5   \n",
       "3462                        @jaredchase killing you how?          5   \n",
       "10                  @Jord_Is_Dead http://t.co/UsQInYW5Gn          5   \n",
       "\n",
       "                                              text_clean  text_len  \n",
       "44035  black white tri live like nigger pahahahaha co...       187  \n",
       "45165  fuck obama dumb ass nigger bitch ltthi whore s...       162  \n",
       "33724  feel guilti kill feel guilti enjoy torment sin...       137  \n",
       "1317   research push import top antibulli program us ...       137  \n",
       "47037  sooo mad rt fuck obama dumb nigger go switzerl...       125  \n",
       "...                                                  ...       ...  \n",
       "1607                                               here7         1  \n",
       "6696                                             rebecca         1  \n",
       "558                                                 work         1  \n",
       "3462                                                kill         1  \n",
       "10                                                               0  \n",
       "\n",
       "[38820 rows x 4 columns]"
      ]
     },
     "execution_count": 33,
     "metadata": {},
     "output_type": "execute_result"
    }
   ],
   "source": [
    "# checking long tweets\n",
    "df.sort_values(by=['text_len'], ascending=False)"
   ]
  },
  {
   "cell_type": "markdown",
   "id": "c66e2e26",
   "metadata": {},
   "source": [
    "### Removing tweets with less than 4 words and more than 100 words as they can be outliers"
   ]
  },
  {
   "cell_type": "code",
   "execution_count": 34,
   "id": "8eb02670",
   "metadata": {},
   "outputs": [],
   "source": [
    "df = df[df['text_len'] > 3]\n",
    "df = df[df['text_len'] < 100]"
   ]
  },
  {
   "cell_type": "code",
   "execution_count": 35,
   "id": "1851cf8a",
   "metadata": {},
   "outputs": [
    {
     "data": {
      "text/html": [
       "<div>\n",
       "<style scoped>\n",
       "    .dataframe tbody tr th:only-of-type {\n",
       "        vertical-align: middle;\n",
       "    }\n",
       "\n",
       "    .dataframe tbody tr th {\n",
       "        vertical-align: top;\n",
       "    }\n",
       "\n",
       "    .dataframe thead th {\n",
       "        text-align: right;\n",
       "    }\n",
       "</style>\n",
       "<table border=\"1\" class=\"dataframe\">\n",
       "  <thead>\n",
       "    <tr style=\"text-align: right;\">\n",
       "      <th></th>\n",
       "      <th>text</th>\n",
       "      <th>sentiment</th>\n",
       "      <th>text_clean</th>\n",
       "      <th>text_len</th>\n",
       "    </tr>\n",
       "  </thead>\n",
       "  <tbody>\n",
       "    <tr>\n",
       "      <th>0</th>\n",
       "      <td>In other words #katandandre, your food was cra...</td>\n",
       "      <td>5</td>\n",
       "      <td>word katandandr food crapilici mkr</td>\n",
       "      <td>5</td>\n",
       "    </tr>\n",
       "    <tr>\n",
       "      <th>1</th>\n",
       "      <td>Why is #aussietv so white? #MKR #theblock #ImA...</td>\n",
       "      <td>5</td>\n",
       "      <td>aussietv white mkr theblock today sunris studi...</td>\n",
       "      <td>10</td>\n",
       "    </tr>\n",
       "    <tr>\n",
       "      <th>2</th>\n",
       "      <td>@XochitlSuckkks a classy whore? Or more red ve...</td>\n",
       "      <td>5</td>\n",
       "      <td>classi whore red velvet cupcak</td>\n",
       "      <td>5</td>\n",
       "    </tr>\n",
       "    <tr>\n",
       "      <th>3</th>\n",
       "      <td>@Jason_Gio meh. :P  thanks for the heads up, b...</td>\n",
       "      <td>5</td>\n",
       "      <td>meh p thank head concern anoth angri dude twitter</td>\n",
       "      <td>9</td>\n",
       "    </tr>\n",
       "    <tr>\n",
       "      <th>4</th>\n",
       "      <td>@RudhoeEnglish This is an ISIS account pretend...</td>\n",
       "      <td>5</td>\n",
       "      <td>isi account pretend kurdish account like islam...</td>\n",
       "      <td>8</td>\n",
       "    </tr>\n",
       "    <tr>\n",
       "      <th>...</th>\n",
       "      <td>...</td>\n",
       "      <td>...</td>\n",
       "      <td>...</td>\n",
       "      <td>...</td>\n",
       "    </tr>\n",
       "    <tr>\n",
       "      <th>47687</th>\n",
       "      <td>Black ppl aren't expected to do anything, depe...</td>\n",
       "      <td>4</td>\n",
       "      <td>black ppl expect anyth depend anyth yet free p...</td>\n",
       "      <td>21</td>\n",
       "    </tr>\n",
       "    <tr>\n",
       "      <th>47688</th>\n",
       "      <td>Turner did not withhold his disappointment. Tu...</td>\n",
       "      <td>4</td>\n",
       "      <td>turner withhold turner call court abomin concl...</td>\n",
       "      <td>28</td>\n",
       "    </tr>\n",
       "    <tr>\n",
       "      <th>47689</th>\n",
       "      <td>I swear to God. This dumb nigger bitch. I have...</td>\n",
       "      <td>4</td>\n",
       "      <td>swear god dumb nigger bitch got bleach hair re...</td>\n",
       "      <td>13</td>\n",
       "    </tr>\n",
       "    <tr>\n",
       "      <th>47690</th>\n",
       "      <td>Yea fuck you RT @therealexel: IF YOURE A NIGGE...</td>\n",
       "      <td>4</td>\n",
       "      <td>yea fuck rt your nigger fuck unfollow fuck dum...</td>\n",
       "      <td>10</td>\n",
       "    </tr>\n",
       "    <tr>\n",
       "      <th>47691</th>\n",
       "      <td>Bro. U gotta chill RT @CHILLShrammy: Dog FUCK ...</td>\n",
       "      <td>4</td>\n",
       "      <td>bro u got ta chill rt dog fuck kp dumb nigger ...</td>\n",
       "      <td>13</td>\n",
       "    </tr>\n",
       "  </tbody>\n",
       "</table>\n",
       "<p>37114 rows × 4 columns</p>\n",
       "</div>"
      ],
      "text/plain": [
       "                                                    text  sentiment  \\\n",
       "0      In other words #katandandre, your food was cra...          5   \n",
       "1      Why is #aussietv so white? #MKR #theblock #ImA...          5   \n",
       "2      @XochitlSuckkks a classy whore? Or more red ve...          5   \n",
       "3      @Jason_Gio meh. :P  thanks for the heads up, b...          5   \n",
       "4      @RudhoeEnglish This is an ISIS account pretend...          5   \n",
       "...                                                  ...        ...   \n",
       "47687  Black ppl aren't expected to do anything, depe...          4   \n",
       "47688  Turner did not withhold his disappointment. Tu...          4   \n",
       "47689  I swear to God. This dumb nigger bitch. I have...          4   \n",
       "47690  Yea fuck you RT @therealexel: IF YOURE A NIGGE...          4   \n",
       "47691  Bro. U gotta chill RT @CHILLShrammy: Dog FUCK ...          4   \n",
       "\n",
       "                                              text_clean  text_len  \n",
       "0                     word katandandr food crapilici mkr         5  \n",
       "1      aussietv white mkr theblock today sunris studi...        10  \n",
       "2                         classi whore red velvet cupcak         5  \n",
       "3      meh p thank head concern anoth angri dude twitter         9  \n",
       "4      isi account pretend kurdish account like islam...         8  \n",
       "...                                                  ...       ...  \n",
       "47687  black ppl expect anyth depend anyth yet free p...        21  \n",
       "47688  turner withhold turner call court abomin concl...        28  \n",
       "47689  swear god dumb nigger bitch got bleach hair re...        13  \n",
       "47690  yea fuck rt your nigger fuck unfollow fuck dum...        10  \n",
       "47691  bro u got ta chill rt dog fuck kp dumb nigger ...        13  \n",
       "\n",
       "[37114 rows x 4 columns]"
      ]
     },
     "execution_count": 35,
     "metadata": {},
     "output_type": "execute_result"
    }
   ],
   "source": [
    "df"
   ]
  },
  {
   "cell_type": "markdown",
   "id": "28a97f8c",
   "metadata": {},
   "source": [
    "## Turning text into numbers"
   ]
  },
  {
   "cell_type": "code",
   "execution_count": 43,
   "id": "04c2de0f",
   "metadata": {},
   "outputs": [],
   "source": [
    "#@title\n",
    "from sklearn.preprocessing import LabelEncoder\n",
    "\n",
    "lenc = LabelEncoder()\n",
    "df.sentiment = lenc.fit_transform(df.sentiment)\n",
    "\n",
    "for c in range(len(lenc.classes_)):\n",
    "    string = \"\"\n",
    "    for i in df[df.sentiment == c].text_clean.values:\n",
    "        string = string + \" \" + i.strip()"
   ]
  },
  {
   "cell_type": "code",
   "execution_count": 44,
   "id": "53dd3897",
   "metadata": {},
   "outputs": [],
   "source": [
    "from sklearn.feature_extraction.text import CountVectorizer \n",
    "from sklearn.feature_extraction.text import TfidfTransformer\n",
    "from sklearn.pipeline import Pipeline\n",
    "\n",
    "\n",
    "tfidf = TfidfTransformer()\n",
    "clf = CountVectorizer()\n",
    "\n",
    "X_cv =  clf.fit_transform(df['text_clean'])\n",
    "\n",
    "tf_transformer = TfidfTransformer(use_idf=True).fit(X_cv)\n",
    "X_tf = tf_transformer.transform(X_cv)"
   ]
  },
  {
   "cell_type": "code",
   "execution_count": 45,
   "id": "460dba66",
   "metadata": {},
   "outputs": [
    {
     "data": {
      "text/plain": [
       "<37114x32979 sparse matrix of type '<class 'numpy.float64'>'\n",
       "\twith 504608 stored elements in Compressed Sparse Row format>"
      ]
     },
     "execution_count": 45,
     "metadata": {},
     "output_type": "execute_result"
    }
   ],
   "source": [
    "X_tf\n"
   ]
  },
  {
   "cell_type": "markdown",
   "id": "30d30f33",
   "metadata": {},
   "source": [
    "## Train test split"
   ]
  },
  {
   "cell_type": "code",
   "execution_count": 46,
   "id": "9ee15938",
   "metadata": {},
   "outputs": [],
   "source": [
    "from sklearn.model_selection import train_test_split\n",
    "# train and test\n",
    "X_train, X_test, y_train, y_test = train_test_split(X_tf, df['sentiment'], test_size=0.20, stratify=df['sentiment'], random_state=42)"
   ]
  },
  {
   "cell_type": "code",
   "execution_count": 47,
   "id": "ef44dc60",
   "metadata": {},
   "outputs": [
    {
     "data": {
      "text/plain": [
       "0    6314\n",
       "1    6264\n",
       "3    6167\n",
       "2    5849\n",
       "4    5097\n",
       "Name: sentiment, dtype: int64"
      ]
     },
     "execution_count": 47,
     "metadata": {},
     "output_type": "execute_result"
    }
   ],
   "source": [
    "y_train.value_counts()"
   ]
  },
  {
   "cell_type": "code",
   "execution_count": 48,
   "id": "c6c0ca0f",
   "metadata": {},
   "outputs": [
    {
     "name": "stdout",
     "output_type": "stream",
     "text": [
      "Requirement already satisfied: threadpoolctl in c:\\users\\dell\\anaconda\\lib\\site-packages (3.2.0)\n",
      "Note: you may need to restart the kernel to use updated packages.\n"
     ]
    }
   ],
   "source": [
    "pip install --upgrade threadpoolctl"
   ]
  },
  {
   "cell_type": "markdown",
   "id": "93ab82ac",
   "metadata": {},
   "source": [
    "#### after checking the training set, there are imbalance of data and it may cause a bias in training the model. Oversampling using SMOTE will be used to balance the train dataset."
   ]
  },
  {
   "cell_type": "markdown",
   "id": "e113f84f",
   "metadata": {},
   "source": [
    "## SMOTE"
   ]
  },
  {
   "cell_type": "code",
   "execution_count": 49,
   "id": "165e3eab",
   "metadata": {},
   "outputs": [
    {
     "data": {
      "text/plain": [
       "4    6314\n",
       "0    6314\n",
       "3    6314\n",
       "2    6314\n",
       "1    6314\n",
       "Name: sentiment, dtype: int64"
      ]
     },
     "execution_count": 49,
     "metadata": {},
     "output_type": "execute_result"
    }
   ],
   "source": [
    "from imblearn.over_sampling import SMOTE\n",
    "vc = y_train.value_counts()\n",
    "while (vc[0] != vc[4]) or (vc[0] !=  vc[2]) or (vc[0] !=  vc[3]) or (vc[0] !=  vc[1]):\n",
    "    smote = SMOTE(sampling_strategy='minority')\n",
    "    X_train, y_train = smote.fit_resample(X_train, y_train)\n",
    "    vc = y_train.value_counts()\n",
    "\n",
    "y_train.value_counts()"
   ]
  },
  {
   "cell_type": "markdown",
   "id": "bff9170b",
   "metadata": {},
   "source": [
    "#### Now the training set is balanced and ready to be feed into the ml model"
   ]
  },
  {
   "cell_type": "markdown",
   "id": "289ce38d",
   "metadata": {},
   "source": [
    "## Model Training"
   ]
  },
  {
   "cell_type": "markdown",
   "id": "bc285fdd",
   "metadata": {},
   "source": [
    "### Naive Bayes"
   ]
  },
  {
   "cell_type": "code",
   "execution_count": 50,
   "id": "9f9d207e",
   "metadata": {
    "scrolled": true
   },
   "outputs": [
    {
     "name": "stdout",
     "output_type": "stream",
     "text": [
      "Accuracy   : 0.8526202344065742\n",
      "Precision : 0.8526202344065742\n",
      "Recall    : 0.8526202344065742\n",
      "F1-score  : 0.8526202344065742\n"
     ]
    }
   ],
   "source": [
    "\n",
    "from sklearn.metrics import accuracy_score, precision_score, recall_score, f1_score\n",
    "from sklearn.naive_bayes import MultinomialNB\n",
    "nb_clf = MultinomialNB()\n",
    "nb_clf.fit(X_train, y_train)\n",
    "y_pred = nb_clf.predict(X_test)\n",
    "accuracy = accuracy_score(y_test, y_pred)\n",
    "print(\"Accuracy   :\", accuracy)\n",
    "precision = precision_score(y_test, y_pred, average='micro')\n",
    "print(\"Precision :\", precision)\n",
    "recall = recall_score(y_test, y_pred, average='micro')\n",
    "print(\"Recall    :\", recall)\n",
    "F1_score = f1_score(y_test, y_pred,average='micro')\n",
    "print(\"F1-score  :\", F1_score)\n"
   ]
  },
  {
   "cell_type": "markdown",
   "id": "0ef9351b",
   "metadata": {},
   "source": [
    "### Random Forest"
   ]
  },
  {
   "cell_type": "code",
   "execution_count": 93,
   "id": "09e520d5",
   "metadata": {},
   "outputs": [
    {
     "name": "stdout",
     "output_type": "stream",
     "text": [
      "Test accuracy: 94.14%\n",
      "Precision : 0.9413983564596524\n",
      "Recall    : 0.9413983564596524\n",
      "F1-score  : 0.9413983564596524\n"
     ]
    }
   ],
   "source": [
    "from sklearn.ensemble import RandomForestClassifier\n",
    "rf_clf = RandomForestClassifier()\n",
    "rf_clf.fit(X_train, y_train)\n",
    "rforest_pred = rf_clf.predict(X_test)\n",
    "rforest_acc = accuracy_score(rforest_pred, y_test)\n",
    "print(\"Test accuracy: {:.2f}%\".format(rforest_acc*100))\n",
    "precision = precision_score(y_test, rforest_pred, average='micro')\n",
    "print(\"Precision :\", precision)\n",
    "recall = recall_score(y_test, rforest_pred, average='micro')\n",
    "print(\"Recall    :\", recall)\n",
    "F1_score = f1_score(y_test, rforest_pred,average='micro')\n",
    "print(\"F1-score  :\", F1_score)"
   ]
  },
  {
   "cell_type": "markdown",
   "id": "31e96960",
   "metadata": {},
   "source": [
    "### Decision Tree"
   ]
  },
  {
   "cell_type": "code",
   "execution_count": 97,
   "id": "8db7176b",
   "metadata": {},
   "outputs": [
    {
     "name": "stdout",
     "output_type": "stream",
     "text": [
      "Test accuracy: 91.94%\n",
      "Precision : 0.9194395796847635\n",
      "Recall    : 0.9194395796847635\n",
      "F1-score  : 0.9194395796847635\n"
     ]
    }
   ],
   "source": [
    "from sklearn.tree import DecisionTreeClassifier\n",
    "dtree = DecisionTreeClassifier()\n",
    "dtree.fit(X_train, y_train)\n",
    "dtree_pred = dtree.predict(X_test)\n",
    "dtree_acc = accuracy_score(dtree_pred, y_test)\n",
    "print(\"Test accuracy: {:.2f}%\".format(dtree_acc*100))\n",
    "precision = precision_score(y_test, dtree_pred, average='micro')\n",
    "print(\"Precision :\", precision)\n",
    "recall = recall_score(y_test, dtree_pred, average='micro')\n",
    "print(\"Recall    :\", recall)\n",
    "F1_score = f1_score(y_test, dtree_pred,average='micro')\n",
    "print(\"F1-score  :\", F1_score)"
   ]
  },
  {
   "cell_type": "markdown",
   "id": "3a1fa50f",
   "metadata": {},
   "source": [
    "### Logistic Regression"
   ]
  },
  {
   "cell_type": "code",
   "execution_count": 100,
   "id": "27743737",
   "metadata": {},
   "outputs": [
    {
     "name": "stdout",
     "output_type": "stream",
     "text": [
      "Test accuracy: 92.62%\n",
      "Precision : 0.9261754007813553\n",
      "Recall    : 0.9261754007813553\n",
      "F1-score  : 0.9261754007813553\n"
     ]
    }
   ],
   "source": [
    "from sklearn.linear_model import LogisticRegression\n",
    "logreg = LogisticRegression()\n",
    "logreg.fit(X_train, y_train)\n",
    "logreg_pred = logreg.predict(X_test)\n",
    "logreg_acc = accuracy_score(logreg_pred, y_test)\n",
    "print(\"Test accuracy: {:.2f}%\".format(logreg_acc*100))\n",
    "precision = precision_score(y_test, logreg_pred, average='micro')\n",
    "print(\"Precision :\", precision)\n",
    "recall = recall_score(y_test, logreg_pred, average='micro')\n",
    "print(\"Recall    :\", recall)\n",
    "F1_score = f1_score(y_test, logreg_pred,average='micro')\n",
    "print(\"F1-score  :\", F1_score)"
   ]
  },
  {
   "cell_type": "markdown",
   "id": "5544da5d",
   "metadata": {},
   "source": [
    "### Ensemble of Decision Tree, Random Forest and Logistic Regression"
   ]
  },
  {
   "cell_type": "code",
   "execution_count": 102,
   "id": "13238225",
   "metadata": {},
   "outputs": [
    {
     "name": "stdout",
     "output_type": "stream",
     "text": [
      "accuracy: 93.8973%\n",
      "Precision : 0.9389734608648794\n",
      "Recall    : 0.9389734608648794\n",
      "F1-score  : 0.9389734608648794\n"
     ]
    }
   ],
   "source": [
    "from sklearn.metrics import log_loss\n",
    "from sklearn.ensemble import VotingClassifier\n",
    "final_model = VotingClassifier(\n",
    "estimators=[('model1', dtree), ('model2', rf_clf),('model3',logreg)], voting='hard')\n",
    "final_model.fit(X_train, y_train)\n",
    "pred = final_model.predict(X_test)\n",
    "accuracy = accuracy_score(y_test,pred)\n",
    "print(\"accuracy: {:.4f}%\".format(accuracy*100))\n",
    "precision = precision_score(y_test,pred, average='micro')\n",
    "print(\"Precision :\", precision)\n",
    "recall = recall_score(y_test,pred, average='micro')\n",
    "print(\"Recall    :\", recall)\n",
    "F1_score = f1_score(y_test,pred,average='micro')\n",
    "print(\"F1-score  :\", F1_score)\n"
   ]
  },
  {
   "cell_type": "markdown",
   "id": "f1bae149",
   "metadata": {},
   "source": [
    "### Extra Trees Classifier"
   ]
  },
  {
   "cell_type": "code",
   "execution_count": 67,
   "id": "e13de022",
   "metadata": {},
   "outputs": [
    {
     "name": "stdout",
     "output_type": "stream",
     "text": [
      "accuracy: 93.7087%\n"
     ]
    }
   ],
   "source": [
    "from sklearn.ensemble import ExtraTreesClassifier\n",
    "#from sklearn.datasets import make_classification\n",
    "# X, y = make_classification(n_features=4, random_state=0)\n",
    "extra_clf = ExtraTreesClassifier(n_estimators=100, random_state=0)\n",
    "extra_clf.fit(X_train, y_train)\n",
    "#ExtraTreesClassifier(random_state=0)\n",
    "#clf.predict([[0, 0, 0, 0]])\n",
    "pred = extra_clf.predict(X_test)\n",
    "accuracy = accuracy_score(y_test,pred)\n",
    "print(\"accuracy: {:.4f}%\".format(accuracy*100))"
   ]
  },
  {
   "cell_type": "markdown",
   "id": "8a580c01",
   "metadata": {},
   "source": [
    "## AUC ROC Curve"
   ]
  },
  {
   "cell_type": "code",
   "execution_count": 169,
   "id": "bdefc574",
   "metadata": {},
   "outputs": [],
   "source": [
    "# predict probabilities\n",
    "pred_prob1 = nb_clf.predict_proba(X_test)\n",
    "pred_prob2 = rf_clf.predict_proba(X_test)\n",
    "pred_prob3 = dtree.predict_proba(X_test)\n",
    "pred_prob4 = logreg.predict_proba(X_test)"
   ]
  },
  {
   "cell_type": "code",
   "execution_count": 170,
   "id": "87df068b",
   "metadata": {},
   "outputs": [],
   "source": [
    "from sklearn.metrics import roc_curve\n",
    "\n",
    "# roc curve for models\n",
    "fpr1, tpr1, thresh1 = roc_curve(y_test, pred_prob1[:,1], pos_label=1)\n",
    "fpr2, tpr2, thresh2 = roc_curve(y_test, pred_prob2[:,1], pos_label=1)\n",
    "fpr3, tpr3, thresh3 = roc_curve(y_test, pred_prob3[:,1,], pos_label=1)\n",
    "fpr4, tpr4, thresh4 = roc_curve(y_test, pred_prob4[:,1], pos_label=1)\n",
    "# roc curve for tpr = fpr \n",
    "random_probs = [0 for i in range(len(y_test))]\n",
    "p_fpr, p_tpr, _ = roc_curve(y_test, random_probs, pos_label=1)"
   ]
  },
  {
   "cell_type": "code",
   "execution_count": 146,
   "id": "c2dcd8ff",
   "metadata": {},
   "outputs": [
    {
     "name": "stdout",
     "output_type": "stream",
     "text": [
      "auc values 0.9803\n",
      "auc values 0.9922\n",
      "auc values 0.9476\n",
      "auc values 0.9899\n"
     ]
    }
   ],
   "source": [
    "from sklearn.metrics import roc_auc_score\n",
    "\n",
    "# auc scores\n",
    "auc_score1 = roc_auc_score(y_test, pred_prob1,multi_class='ovr')\n",
    "auc_score2 = roc_auc_score(y_test, pred_prob2,multi_class='ovr')\n",
    "auc_score3 = roc_auc_score(y_test, pred_prob3,multi_class='ovr')\n",
    "auc_score4 = roc_auc_score(y_test, pred_prob4,multi_class='ovr')\n",
    "\n",
    "print(\"auc values {:.4f}\".format(auc_score1))\n",
    "print(\"auc values {:.4f}\".format(auc_score2))\n",
    "print(\"auc values {:.4f}\".format(auc_score3))\n",
    "print(\"auc values {:.4f}\".format(auc_score4))"
   ]
  },
  {
   "cell_type": "code",
   "execution_count": 173,
   "id": "f7e027b2",
   "metadata": {},
   "outputs": [
    {
     "data": {
      "text/plain": [
       "<matplotlib.legend.Legend at 0x1f29dee15e0>"
      ]
     },
     "execution_count": 173,
     "metadata": {},
     "output_type": "execute_result"
    },
    {
     "data": {
      "image/png": "[encoded data removed]",
      "text/plain": [
       "<Figure size 432x288 with 1 Axes>"
      ]
     },
     "metadata": {
      "needs_background": "light"
     },
     "output_type": "display_data"
    }
   ],
   "source": [
    "import matplotlib.pyplot as plt\n",
    "plt.plot(fpr1,tpr1,linestyle='--', color='purple',label=\"Naive Bayes, AUC=\"+str(auc_score1))\n",
    "plt.plot(fpr2,tpr2,linestyle='--',color='green',label=\"Random Forest, AUC=\"+str(auc_score2))\n",
    "plt.plot(fpr3,tpr3,linestyle='--',color='blue',label=\"Decision Tree, AUC=\"+str(auc_score3))\n",
    "plt.plot(fpr4,tpr4,linestyle='--', color='yellow',label=\"Logistic Regression, AUC=\"+str(auc_score4))\n",
    "plt.plot([0,1],[0,1],'r--')\n",
    "plt.title('ROC curve')\n",
    "plt.xlabel('False Positive Rate')\n",
    "plt.ylabel('True Positive Rate')\n",
    "\n",
    "#add legend\n",
    "plt.legend()"
   ]
  }
 ],
 "metadata": {
  "kernelspec": {
   "display_name": "Python 3 (ipykernel)",
   "language": "python",
   "name": "python3"
  },
  "language_info": {
   "codemirror_mode": {
    "name": "ipython",
    "version": 3
   },
   "file_extension": ".py",
   "mimetype": "text/x-python",
   "name": "python",
   "nbconvert_exporter": "python",
   "pygments_lexer": "ipython3",
   "version": "3.9.7"
  }
 },
 "nbformat": 4,
 "nbformat_minor": 5
}
